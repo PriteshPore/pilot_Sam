{
 "cells": [
  {
   "cell_type": "code",
   "execution_count": 11,
   "id": "14190043-e788-4002-969f-fb3c191a39cd",
   "metadata": {},
   "outputs": [],
   "source": [
    "import os\n",
    "import requests"
   ]
  },
  {
   "cell_type": "code",
   "execution_count": 12,
   "id": "52e1ef7b-5ac3-4960-bbe8-9d24f7930fa4",
   "metadata": {},
   "outputs": [],
   "source": [
    "from bs4 import BeautifulSoup\n",
    "from urllib.request import urlopen as uReq\n"
   ]
  },
  {
   "cell_type": "code",
   "execution_count": 3,
   "id": "705d76dc-2d02-4022-9351-af7ef7cb1ff0",
   "metadata": {},
   "outputs": [],
   "source": [
    "save_dir = \"images/\"\n",
    "if not os.path.exists(save_dir):\n",
    "    os.makedirs(save_dir)"
   ]
  },
  {
   "cell_type": "code",
   "execution_count": 4,
   "id": "2a7d8d9b-32a2-43a8-863a-247066965f2c",
   "metadata": {},
   "outputs": [],
   "source": [
    "query = \"Virat Kohli\"\n",
    "response = requests.get(f\"https://www.google.com/search?q={query}&sxsrf=AJOqlzUuff1RXi2mm8I_OqOwT9VjfIDL7w:1676996143273&source=lnms&tbm=isch&sa=X&ved=2ahUKEwiq-qK7gaf9AhXUgVYBHYReAfYQ_AUoA3oECAEQBQ&biw=1920&bih=937&dpr=1#imgrc=1th7VhSesfMJ4M\")"
   ]
  },
  {
   "cell_type": "code",
   "execution_count": 5,
   "id": "0059076b-18e7-44b0-ad0e-b669258a0ae4",
   "metadata": {},
   "outputs": [],
   "source": [
    "soup = BeautifulSoup(response.content,'html.parser')"
   ]
  },
  {
   "cell_type": "code",
   "execution_count": 6,
   "id": "6b38eee1-888e-44aa-923b-38538bcd0389",
   "metadata": {},
   "outputs": [],
   "source": [
    "images_tages = soup.find_all(\"img\")"
   ]
  },
  {
   "cell_type": "code",
   "execution_count": 7,
   "id": "9c262ad7-e8fc-44a2-bc37-ec338cbca40b",
   "metadata": {},
   "outputs": [],
   "source": [
    "del images_tages[0]"
   ]
  },
  {
   "cell_type": "code",
   "execution_count": 8,
   "id": "ad75fb67-df4e-4914-a150-4d3e486ddb1c",
   "metadata": {},
   "outputs": [
    {
     "data": {
      "text/plain": [
       "[<img alt=\"\" class=\"DS1iW\" src=\"https://encrypted-tbn0.gstatic.com/images?q=tbn:ANd9GcTgbKNzBeCa4aRKG8_ZSvgyH1F3Xmn1iJoQ7GGVTa0TKuVQ6PohHAZl6WPJGA&amp;s\"/>,\n",
       " <img alt=\"\" class=\"DS1iW\" src=\"https://encrypted-tbn0.gstatic.com/images?q=tbn:ANd9GcTSXAAowoe0NgqE0pqClijI-yiRHh6rTGtVdCFlASGdLbACDc387hCvU2vNDg&amp;s\"/>,\n",
       " <img alt=\"\" class=\"DS1iW\" src=\"https://encrypted-tbn0.gstatic.com/images?q=tbn:ANd9GcQq8X0nLNaCzy7-IB3JuFXdBf8TU8Osb9_3kM_zz_nV_7K3F5pk8RPNXJHQB-M&amp;s\"/>,\n",
       " <img alt=\"\" class=\"DS1iW\" src=\"https://encrypted-tbn0.gstatic.com/images?q=tbn:ANd9GcTm-Qq6or-Qj64j8Ew3lskOFjKOGgu9Ndx6z7w3vvPr-4LYCijPsJg5_O8oZw&amp;s\"/>,\n",
       " <img alt=\"\" class=\"DS1iW\" src=\"https://encrypted-tbn0.gstatic.com/images?q=tbn:ANd9GcR2EXHaX8MaAWkAfd3csMCfx9V2taiHTxE8BhhHq5ppPnfFWbhEHfAEO9OQrLI&amp;s\"/>,\n",
       " <img alt=\"\" class=\"DS1iW\" src=\"https://encrypted-tbn0.gstatic.com/images?q=tbn:ANd9GcTjRYXqKpwxHkFa9Vz7wH-dkSRYDx0WPwGY5PpsmMSy5DETP_ts5F9K5Hf9qw&amp;s\"/>,\n",
       " <img alt=\"\" class=\"DS1iW\" src=\"https://encrypted-tbn0.gstatic.com/images?q=tbn:ANd9GcT1DF8OsuszaMRcN5_c0A_Hr6UUkzQtKWoGdZC6aJdQM2k4sROI8foxjlWBxA&amp;s\"/>,\n",
       " <img alt=\"\" class=\"DS1iW\" src=\"https://encrypted-tbn0.gstatic.com/images?q=tbn:ANd9GcRM9yt_-EJa8VLmtyGXQ5QEiHtbOTiYYZSFAhGP5Xwrt8pFTRpbF7zohZxj77Q&amp;s\"/>,\n",
       " <img alt=\"\" class=\"DS1iW\" src=\"https://encrypted-tbn0.gstatic.com/images?q=tbn:ANd9GcS24bF8UC-LWc7ZkGfIdf8lCJQL1NOhuZo6p9fIiMgc8MJ3u1gAUfZfiyIB4-k&amp;s\"/>,\n",
       " <img alt=\"\" class=\"DS1iW\" src=\"https://encrypted-tbn0.gstatic.com/images?q=tbn:ANd9GcQNUWOZ8VgIi07IPeHja43tha_xQVp_w3EgXv3sC8182fn8P0xnMF-sOiAke54&amp;s\"/>,\n",
       " <img alt=\"\" class=\"DS1iW\" src=\"https://encrypted-tbn0.gstatic.com/images?q=tbn:ANd9GcS3R1aGEGS7JDq5Bx1f4txDZr6LmVWA98e_JEj34pk6B2OJXijenZeG_DdK&amp;s\"/>,\n",
       " <img alt=\"\" class=\"DS1iW\" src=\"https://encrypted-tbn0.gstatic.com/images?q=tbn:ANd9GcQT5IoMXUQCHhtZPp9KfonIJmsBc_tLgREuWeTZfe8lwhGmMSsMPb3m9lHLbME&amp;s\"/>,\n",
       " <img alt=\"\" class=\"DS1iW\" src=\"https://encrypted-tbn0.gstatic.com/images?q=tbn:ANd9GcTAhGYuUZ0_tYD91NZEq9vqlLeKCFmlKO2NgicPOv7azIKvCgTcpqPE2RhxE2o&amp;s\"/>,\n",
       " <img alt=\"\" class=\"DS1iW\" src=\"https://encrypted-tbn0.gstatic.com/images?q=tbn:ANd9GcSEkdSagmUlsK3A7tt3U3EZGN9dMDHwRkqIO938DtirszgjfRWwCmUAxs8BwMQ&amp;s\"/>,\n",
       " <img alt=\"\" class=\"DS1iW\" src=\"https://encrypted-tbn0.gstatic.com/images?q=tbn:ANd9GcQImQMX_hYskdWzdnRFAGP9SiP0uNI3vydshkZtal0WGvMAK4UEKVHdsv7yjko&amp;s\"/>,\n",
       " <img alt=\"\" class=\"DS1iW\" src=\"https://encrypted-tbn0.gstatic.com/images?q=tbn:ANd9GcTv_UPPgukbuQ_Wxv5s87_fmqVF-20suJc5SNck1tO7JiE_6D95zh3u7oy3Lg&amp;s\"/>,\n",
       " <img alt=\"\" class=\"DS1iW\" src=\"https://encrypted-tbn0.gstatic.com/images?q=tbn:ANd9GcR4H1tODU7ci3j_sZPAsa3IwCtShkuOoQJwuatTyxpI9ELu0MkurKMtiH2q2p0&amp;s\"/>,\n",
       " <img alt=\"\" class=\"DS1iW\" src=\"https://encrypted-tbn0.gstatic.com/images?q=tbn:ANd9GcTIozrd1mZMyYfKHdy2s65qL6vhqvtNKc99xuAw9pPMPe0arSm3qqZ4WaDAqD8&amp;s\"/>,\n",
       " <img alt=\"\" class=\"DS1iW\" src=\"https://encrypted-tbn0.gstatic.com/images?q=tbn:ANd9GcRCGEZAzUoACN-_aTzyDwPE03P0gSjTGz1oOnSjNvZ9GvdQaMN5FVMnw8SDAw&amp;s\"/>,\n",
       " <img alt=\"\" class=\"DS1iW\" src=\"https://encrypted-tbn0.gstatic.com/images?q=tbn:ANd9GcSfJCgKATw23OgNQ8LdpiHjSnP3yxiXy6QNW-9TWcAjXjO-6SAk-o4p8is4ZfU&amp;s\"/>]"
      ]
     },
     "execution_count": 8,
     "metadata": {},
     "output_type": "execute_result"
    }
   ],
   "source": [
    "images_tages"
   ]
  },
  {
   "cell_type": "code",
   "execution_count": 10,
   "id": "2ee6fdcf-557e-4d47-9690-efccf28ce76a",
   "metadata": {},
   "outputs": [],
   "source": [
    "for i in images_tages:\n",
    "    images_url = i['src']\n",
    "    images_data = requests.get(images_url).content\n",
    "    with open (os.path.join(save_dir,f\"{query}_{images_tages.index(i)}.jpg\"),\"wb\") as f:\n",
    "        f.write(images_data)\n",
    "        "
   ]
  },
  {
   "cell_type": "code",
   "execution_count": null,
   "id": "97cf943c-00f9-48b7-8398-a5160e774ae0",
   "metadata": {},
   "outputs": [],
   "source": []
  }
 ],
 "metadata": {
  "kernelspec": {
   "display_name": "Python 3 (ipykernel)",
   "language": "python",
   "name": "python3"
  },
  "language_info": {
   "codemirror_mode": {
    "name": "ipython",
    "version": 3
   },
   "file_extension": ".py",
   "mimetype": "text/x-python",
   "name": "python",
   "nbconvert_exporter": "python",
   "pygments_lexer": "ipython3",
   "version": "3.10.8"
  }
 },
 "nbformat": 4,
 "nbformat_minor": 5
}
